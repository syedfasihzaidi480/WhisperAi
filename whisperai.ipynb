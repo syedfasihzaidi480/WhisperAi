{
  "cells": [
    {
      "cell_type": "markdown",
      "metadata": {
        "id": "view-in-github",
        "colab_type": "text"
      },
      "source": [
        "<a href=\"https://colab.research.google.com/github/syedfasihzaidi480/WhisperAi/blob/main/whisperai.ipynb\" target=\"_parent\"><img src=\"https://colab.research.google.com/assets/colab-badge.svg\" alt=\"Open In Colab\"/></a>"
      ]
    },
    {
      "cell_type": "code",
      "source": [
        "import os\n",
        "import streamlit as st\n",
        "import whisper\n",
        "import tempfile\n",
        "import soundfile as sf\n",
        "import numpy as np\n",
        "import subprocess\n",
        "import torch\n",
        "\n",
        "# Check if `sounddevice` is available\n",
        "try:\n",
        "    import sounddevice as sd\n",
        "    SOUNDDEVICE_AVAILABLE = True\n",
        "except OSError:\n",
        "    SOUNDDEVICE_AVAILABLE = False\n",
        "\n",
        "# Ensure required dependencies are installed\n",
        "try:\n",
        "    import whisper\n",
        "except ImportError:\n",
        "    subprocess.run([\"pip\", \"install\", \"openai-whisper\"])\n",
        "    import whisper\n",
        "\n",
        "# ✅ Fix \"Missing ScriptRunContext\" issue\n",
        "@st.cache_resource\n",
        "def load_model():\n",
        "    with st.spinner(\"Loading Whisper AI model... Please wait.\"):\n",
        "        # Remove the `torch_dtype` argument\n",
        "        return whisper.load_model(\"medium\", download_root=\"./\")\n",
        "\n",
        "# ✅ Ensure model is loaded inside Streamlit execution flow\n",
        "st.title(\"Whisper AI Transcription\")\n",
        "st.write(\"Upload an audio file or record live audio for transcription.\")\n",
        "\n",
        "with st.spinner(\"Initializing model... Please wait.\"):\n",
        "    model = load_model()\n",
        "\n",
        "def transcribe_audio(file_path):\n",
        "    \"\"\"Transcribes audio using Whisper AI.\"\"\"\n",
        "    result = model.transcribe(file_path)\n",
        "    return result[\"text\"]\n",
        "\n",
        "uploaded_file = st.file_uploader(\"Upload an audio/video file\", type=[\"mp3\", \"wav\", \"flac\", \"mp4\", \"m4a\"])\n",
        "\n",
        "# ✅ Fix: Only enable recording if `sounddevice` is available\n",
        "if SOUNDDEVICE_AVAILABLE:\n",
        "    duration = st.slider(\"Recording duration (seconds)\", min_value=1, max_value=10, value=5)\n",
        "    if st.button(\"Record Live Audio\"):\n",
        "        st.write(f\"Recording for {duration} seconds...\")\n",
        "\n",
        "        fs = 44100\n",
        "        recording = sd.rec(int(duration * fs), samplerate=fs, channels=1, dtype='float64')\n",
        "        sd.wait()\n",
        "\n",
        "        with tempfile.NamedTemporaryFile(delete=False, suffix=\".wav\") as tmpfile:\n",
        "            sf.write(tmpfile.name, recording, fs)\n",
        "            st.success(\"Recording saved. Transcribing...\")\n",
        "            transcription = transcribe_audio(tmpfile.name)\n",
        "\n",
        "            st.download_button(label=\"Download Transcription\", data=transcription, file_name=\"transcription.txt\", mime=\"text/plain\")\n",
        "            st.write(\"### Transcription Result:\")\n",
        "            st.write(transcription)\n",
        "\n",
        "            os.unlink(tmpfile.name)\n",
        "\n",
        "# ✅ Fix: Ensure uploaded file is processed within Streamlit execution flow\n",
        "if uploaded_file is not None:\n",
        "    with tempfile.NamedTemporaryFile(delete=False, suffix=os.path.splitext(uploaded_file.name)[1]) as tmpfile:\n",
        "        tmpfile.write(uploaded_file.getvalue())\n",
        "        st.success(\"File uploaded. Transcribing...\")\n",
        "        transcription = transcribe_audio(tmpfile.name)\n",
        "\n",
        "        st.download_button(label=\"Download Transcription\", data=transcription, file_name=\"transcription.txt\", mime=\"text/plain\")\n",
        "        st.write(\"### Transcription Result:\")\n",
        "        st.write(transcription)\n",
        "\n",
        "        os.unlink(tmpfile.name)\n"
      ],
      "metadata": {
        "colab": {
          "base_uri": "https://localhost:8080/"
        },
        "id": "1_Al7DiZAICe",
        "outputId": "93badee9-c1b8-407e-a47e-da8ef93de3e7"
      },
      "execution_count": 11,
      "outputs": [
        {
          "output_type": "stream",
          "name": "stderr",
          "text": [
            "2025-02-16 13:51:29.852 Thread 'MainThread': missing ScriptRunContext! This warning can be ignored when running in bare mode.\n",
            "2025-02-16 13:51:29.854 Thread 'MainThread': missing ScriptRunContext! This warning can be ignored when running in bare mode.\n",
            "2025-02-16 13:51:29.856 Thread 'MainThread': missing ScriptRunContext! This warning can be ignored when running in bare mode.\n",
            "2025-02-16 13:51:29.857 Thread 'MainThread': missing ScriptRunContext! This warning can be ignored when running in bare mode.\n",
            "2025-02-16 13:51:29.859 Thread 'MainThread': missing ScriptRunContext! This warning can be ignored when running in bare mode.\n",
            "2025-02-16 13:51:29.860 Thread 'MainThread': missing ScriptRunContext! This warning can be ignored when running in bare mode.\n",
            "2025-02-16 13:51:29.861 Thread 'MainThread': missing ScriptRunContext! This warning can be ignored when running in bare mode.\n",
            "2025-02-16 13:51:29.862 Thread 'MainThread': missing ScriptRunContext! This warning can be ignored when running in bare mode.\n",
            "2025-02-16 13:51:29.863 Thread 'MainThread': missing ScriptRunContext! This warning can be ignored when running in bare mode.\n",
            "2025-02-16 13:51:29.871 Thread 'MainThread': missing ScriptRunContext! This warning can be ignored when running in bare mode.\n",
            "2025-02-16 13:51:29.871 Thread 'MainThread': missing ScriptRunContext! This warning can be ignored when running in bare mode.\n",
            "2025-02-16 13:51:29.874 Thread 'MainThread': missing ScriptRunContext! This warning can be ignored when running in bare mode.\n",
            "2025-02-16 13:51:29.875 Thread 'MainThread': missing ScriptRunContext! This warning can be ignored when running in bare mode.\n",
            "2025-02-16 13:51:29.878 Thread 'MainThread': missing ScriptRunContext! This warning can be ignored when running in bare mode.\n",
            "2025-02-16 13:51:29.879 Thread 'MainThread': missing ScriptRunContext! This warning can be ignored when running in bare mode.\n",
            "  4%|█▍                                    | 55.1M/1.42G [00:00<00:09, 155MiB/s]2025-02-16 13:51:30.371 Thread 'Thread-18': missing ScriptRunContext! This warning can be ignored when running in bare mode.\n",
            "2025-02-16 13:51:30.372 Thread 'Thread-18': missing ScriptRunContext! This warning can be ignored when running in bare mode.\n",
            "2025-02-16 13:51:30.375 Thread 'Thread-19': missing ScriptRunContext! This warning can be ignored when running in bare mode.\n",
            "2025-02-16 13:51:30.382 Thread 'Thread-19': missing ScriptRunContext! This warning can be ignored when running in bare mode.\n",
            "2025-02-16 13:51:30.383 Thread 'Thread-20': missing ScriptRunContext! This warning can be ignored when running in bare mode.\n",
            "2025-02-16 13:51:30.386 Thread 'Thread-20': missing ScriptRunContext! This warning can be ignored when running in bare mode.\n",
            "100%|██████████████████████████████████████| 1.42G/1.42G [00:09<00:00, 169MiB/s]\n",
            "/usr/local/lib/python3.11/dist-packages/whisper/__init__.py:150: FutureWarning: You are using `torch.load` with `weights_only=False` (the current default value), which uses the default pickle module implicitly. It is possible to construct malicious pickle data which will execute arbitrary code during unpickling (See https://github.com/pytorch/pytorch/blob/main/SECURITY.md#untrusted-models for more details). In a future release, the default value for `weights_only` will be flipped to `True`. This limits the functions that could be executed during unpickling. Arbitrary objects will no longer be allowed to be loaded via this mode unless they are explicitly allowlisted by the user via `torch.serialization.add_safe_globals`. We recommend you start setting `weights_only=True` for any use case where you don't have full control of the loaded file. Please open an issue on GitHub for any issues related to this experimental feature.\n",
            "  checkpoint = torch.load(fp, map_location=device)\n",
            "2025-02-16 13:51:55.426 Thread 'MainThread': missing ScriptRunContext! This warning can be ignored when running in bare mode.\n",
            "2025-02-16 13:51:55.428 Thread 'MainThread': missing ScriptRunContext! This warning can be ignored when running in bare mode.\n",
            "2025-02-16 13:51:55.430 Thread 'MainThread': missing ScriptRunContext! This warning can be ignored when running in bare mode.\n",
            "2025-02-16 13:51:55.432 Thread 'MainThread': missing ScriptRunContext! This warning can be ignored when running in bare mode.\n",
            "2025-02-16 13:51:55.433 Thread 'MainThread': missing ScriptRunContext! This warning can be ignored when running in bare mode.\n",
            "2025-02-16 13:51:55.435 Thread 'MainThread': missing ScriptRunContext! This warning can be ignored when running in bare mode.\n",
            "2025-02-16 13:51:55.437 Thread 'MainThread': missing ScriptRunContext! This warning can be ignored when running in bare mode.\n",
            "2025-02-16 13:51:55.437 Thread 'MainThread': missing ScriptRunContext! This warning can be ignored when running in bare mode.\n",
            "2025-02-16 13:51:55.438 Thread 'MainThread': missing ScriptRunContext! This warning can be ignored when running in bare mode.\n",
            "2025-02-16 13:51:55.439 Thread 'MainThread': missing ScriptRunContext! This warning can be ignored when running in bare mode.\n",
            "2025-02-16 13:51:55.440 Thread 'MainThread': missing ScriptRunContext! This warning can be ignored when running in bare mode.\n"
          ]
        }
      ]
    },
    {
      "cell_type": "code",
      "source": [],
      "metadata": {
        "id": "I35QlYF1AIlH"
      },
      "execution_count": null,
      "outputs": []
    }
  ],
  "metadata": {
    "accelerator": "GPU",
    "colab": {
      "gpuType": "T4",
      "provenance": [],
      "authorship_tag": "ABX9TyNxuQae/e18JsesQrxfc4bo",
      "include_colab_link": true
    },
    "kernelspec": {
      "display_name": "Python 3",
      "name": "python3"
    },
    "language_info": {
      "name": "python"
    }
  },
  "nbformat": 4,
  "nbformat_minor": 0
}